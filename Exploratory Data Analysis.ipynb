{
 "cells": [
  {
   "cell_type": "markdown",
   "id": "b0b5f06f",
   "metadata": {},
   "source": [
    "# SDS Project: Exploratory Data Analysis\n",
    "\n",
    "This Python Jupyter notebook explores the differences in polarity and subjectivity between various news sources. By plotting subjectivity against polarity, and color-coding the data points based on the news source, we can visually analyze the potential biases and perspectives inherent in different media outlets. This approach not only provides a quantitative measure of news objectivity but also offers a unique lens through which we can better understand the landscape of contemporary news reporting. "
   ]
  },
  {
   "cell_type": "markdown",
   "id": "d7e16402",
   "metadata": {},
   "source": [
    "First, let's load in the processed data that we collected from News Sentiment Analysis"
   ]
  },
  {
   "cell_type": "code",
   "execution_count": null,
   "id": "8e6d2362",
   "metadata": {},
   "outputs": [],
   "source": [
    "#Basic imports for the assignment\n",
    "import numpy as np\n",
    "import pandas as pd"
   ]
  },
  {
   "cell_type": "code",
   "execution_count": null,
   "id": "e80d7aef",
   "metadata": {},
   "outputs": [],
   "source": [
    "business_df = pd.read_csv(\"business_news_processed.csv\")\n",
    "us_news_df = pd.read_csv(\"us_news_processed.csv\")\n",
    "tech_df = pd.read_csv(\"tech_news_processed.csv\")\n",
    "world_df = pd.read_csv(\"world_news_processed.csv\")\n",
    "commodities1_df = pd.read_csv(\"commodities1_processed.csv\")\n",
    "commodities2_df = pd.read_csv(\"commodities2_processed.csv\")"
   ]
  },
  {
   "cell_type": "markdown",
   "id": "18cdd7c7",
   "metadata": {},
   "source": [
    "### Scatter Plot - Polarity vs. Subjectivity of News Sources"
   ]
  },
  {
   "cell_type": "code",
   "execution_count": null,
   "id": "86b170ba",
   "metadata": {
    "scrolled": false
   },
   "outputs": [],
   "source": [
    "import altair as alt\n",
    "from vega_datasets import data\n",
    "\n",
    "# Increase the row limit\n",
    "alt.data_transformers.disable_max_rows()\n",
    "\n",
    "# Business dataframe\n",
    "business_sample = business_df.sample(frac=0.1)\n",
    "scatter_business = alt.Chart(business_sample).mark_circle(size=60).encode(\n",
    "    x='Content Subjectivity',\n",
    "    y='Content Polarity',\n",
    "    tooltip=['Content Subjectivity', 'Content Polarity']\n",
    ").interactive().properties(\n",
    "    title='Business Scatterplot: Content Subjectivity vs Content Polarity'\n",
    ")\n",
    "scatter_business.display()\n",
    "\n",
    "# US News dataframe\n",
    "us_news_sample = us_news_df.sample(frac=0.1)\n",
    "scatter_us_news = alt.Chart(us_news_sample).mark_circle(size=60).encode(\n",
    "    x='Content Subjectivity',\n",
    "    y='Content Polarity',\n",
    "    tooltip=['Content Subjectivity', 'Content Polarity']\n",
    ").interactive().properties(\n",
    "    title='US News Scatterplot: Content Subjectivity vs Content Polarity'\n",
    ")\n",
    "scatter_us_news.display()\n",
    "\n",
    "# Tech dataframe\n",
    "tech_sample = tech_df.sample(frac=0.1)\n",
    "scatter_tech = alt.Chart(tech_sample).mark_circle(size=60).encode(\n",
    "    x='Content Subjectivity',\n",
    "    y='Content Polarity',\n",
    "    tooltip=['Content Subjectivity', 'Content Polarity']\n",
    ").interactive().properties(\n",
    "    title='Tech Scatterplot: Content Subjectivity vs Content Polarity'\n",
    ")\n",
    "scatter_tech.display()\n",
    "\n",
    "# World dataframe\n",
    "world_sample = world_df.sample(frac=0.1)\n",
    "scatter_world = alt.Chart(world_sample).mark_circle(size=60).encode(\n",
    "    x='Content Subjectivity',\n",
    "    y='Content Polarity',\n",
    "    tooltip=['Content Subjectivity', 'Content Polarity']\n",
    ").interactive().properties(\n",
    "    title='World Scatterplot: Content Subjectivity vs Content Polarity'\n",
    ")\n",
    "scatter_world.display()\n",
    "\n",
    "# Commodities 1 dataframe\n",
    "commodities1_sample = commodities1_df.sample(frac=0.1)\n",
    "scatter_commodities1 = alt.Chart(commodities1_sample).mark_circle(size=60).encode(\n",
    "    x='Content Subjectivity',\n",
    "    y='Content Polarity',\n",
    "    tooltip=['Content Subjectivity', 'Content Polarity']\n",
    ").interactive().properties(\n",
    "    title='Commodities 1 Scatterplot: Content Subjectivity vs Content Polarity'\n",
    ")\n",
    "scatter_commodities1.display()\n",
    "\n",
    "# Commodities 2 dataframe\n",
    "commodities2_sample = commodities2_df.sample(frac=0.1)\n",
    "scatter_commodities2 = alt.Chart(commodities2_df).mark_circle(size=60).encode(\n",
    "    x='Content Subjectivity',\n",
    "    y='Content Polarity',\n",
    "    tooltip=['Content Subjectivity', 'Content Polarity']\n",
    ").interactive().properties(\n",
    "    title='Commodities 2 Scatterplot: Content Subjectivity vs Content Polarity'\n",
    ")\n",
    "scatter_commodities2.display()\n"
   ]
  }
 ],
 "metadata": {
  "kernelspec": {
   "display_name": "Python 3 (ipykernel)",
   "language": "python",
   "name": "python3"
  },
  "language_info": {
   "codemirror_mode": {
    "name": "ipython",
    "version": 3
   },
   "file_extension": ".py",
   "mimetype": "text/x-python",
   "name": "python",
   "nbconvert_exporter": "python",
   "pygments_lexer": "ipython3",
   "version": "3.9.18"
  }
 },
 "nbformat": 4,
 "nbformat_minor": 5
}
