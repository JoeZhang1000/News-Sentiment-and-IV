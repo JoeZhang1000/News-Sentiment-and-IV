{
 "cells": [
  {
   "cell_type": "markdown",
   "id": "67765f9e",
   "metadata": {},
   "source": [
    "# Sentiment Analysis\n",
    "\n",
    "In the blocks of code below, we conduct sentiment analysis on Twitter data."
   ]
  },
  {
   "cell_type": "code",
   "execution_count": null,
   "id": "0aaca3b9",
   "metadata": {},
   "outputs": [],
   "source": [
    "import tweepy\n",
    "from textblob import TextBlob\n",
    "\n",
    "consumer_key = \"xACwL3UWmbk4keFl6OTQ7FUNa\"\n",
    "consumer_secret = \"ZIVE8xaslrlzfGRsKc2jbj9fx0mwADvhcIlihOzrxhcV3CaEbJ\"\n",
    "\n"
   ]
  }
 ],
 "metadata": {
  "kernelspec": {
   "display_name": "Python 3 (ipykernel)",
   "language": "python",
   "name": "python3"
  },
  "language_info": {
   "codemirror_mode": {
    "name": "ipython",
    "version": 3
   },
   "file_extension": ".py",
   "mimetype": "text/x-python",
   "name": "python",
   "nbconvert_exporter": "python",
   "pygments_lexer": "ipython3",
   "version": "3.9.18"
  }
 },
 "nbformat": 4,
 "nbformat_minor": 5
}
