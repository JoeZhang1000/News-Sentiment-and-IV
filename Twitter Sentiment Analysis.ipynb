{
 "cells": [
  {
   "cell_type": "markdown",
   "id": "b1bd9d35",
   "metadata": {},
   "source": [
    "# Sentiment Analysis\n",
    "\n",
    "In the blocks of code below, we conduct sentiment analysis on Twitter data."
   ]
  },
  {
   "cell_type": "code",
   "execution_count": 3,
   "id": "29ea6487",
   "metadata": {},
   "outputs": [],
   "source": [
    "import tweepy\n",
    "from textblob import TextBlob\n",
    "\n",
    "consumer_key = \"xACwL3UWmbk4keFl6OTQ7FUNa\"\n",
    "consumer_secret = \"ZIVE8xaslrlzfGRsKc2jbj9fx0mwADvhcIlihOzrxhcV3CaEbJ\"\n",
    "\n",
    "access_token = \"1722299133627650048-z1hNz906XukuEwo3BVQbNh5kFU8s8Y\"\n",
    "access_secret = \"gfogXLsdBG79loP8ng6he8l9qnCCLMQpAU5CBc93igrHT\"\n",
    "\n",
    "auth = tweepy.OAuthHandler(consumer_key, consumer_secret)\n",
    "auth.set_access_token(access_token, access_secret)\n",
    "api = tweepy.API(auth)"
   ]
  },
  {
   "cell_type": "code",
   "execution_count": 6,
   "id": "1635f5c4",
   "metadata": {},
   "outputs": [
    {
     "name": "stdout",
     "output_type": "stream",
     "text": [
      "Error fetching tweets: 403 Forbidden\n",
      "453 - You currently have access to a subset of Twitter API v2 endpoints and limited v1.1 endpoints (e.g. media post, oauth) only. If you need access to this endpoint, you may need a different access level. You can learn more here: https://developer.twitter.com/en/portal/product\n"
     ]
    }
   ],
   "source": [
    "def fetch_tweets(query, count = 100):\n",
    "    tweets = []\n",
    "    try:\n",
    "        fetched_tweets = api.search_tweets(q=query, count=count)\n",
    "        for tweet in fetched_tweets:\n",
    "            tweets.append(tweet.txt)\n",
    "    except tweepy.errors.TweepyException as e:\n",
    "        print(\"Error fetching tweets:\", str(e))\n",
    "    return tweets\n",
    "tweets = fetch_tweets(\"Yeah\", count=100)"
   ]
  },
  {
   "cell_type": "code",
   "execution_count": null,
   "id": "61c74443",
   "metadata": {},
   "outputs": [],
   "source": []
  }
 ],
 "metadata": {
  "kernelspec": {
   "display_name": "Python 3 (ipykernel)",
   "language": "python",
   "name": "python3"
  },
  "language_info": {
   "codemirror_mode": {
    "name": "ipython",
    "version": 3
   },
   "file_extension": ".py",
   "mimetype": "text/x-python",
   "name": "python",
   "nbconvert_exporter": "python",
   "pygments_lexer": "ipython3",
   "version": "3.9.18"
  }
 },
 "nbformat": 4,
 "nbformat_minor": 5
}
