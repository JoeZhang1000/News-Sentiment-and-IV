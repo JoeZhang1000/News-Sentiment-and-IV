{
 "cells": [
  {
   "cell_type": "markdown",
   "id": "54541794",
   "metadata": {},
   "source": [
    "# Sentiment Analysis\n",
    "\n",
    "In the blocks of code below, we conduct sentiment analysis on Reddit data."
   ]
  },
  {
   "cell_type": "code",
   "execution_count": null,
   "id": "88a5316f",
   "metadata": {},
   "outputs": [],
   "source": []
  },
  {
   "cell_type": "code",
   "execution_count": null,
   "id": "135cab70",
   "metadata": {},
   "outputs": [],
   "source": []
  },
  {
   "cell_type": "code",
   "execution_count": 1,
   "id": "0974151d",
   "metadata": {},
   "outputs": [],
   "source": [
    "import praw\n",
    "\n",
    "# Authenticate\n",
    "\n",
    "user_agent = \"Reddit_Scrapper 1.0 by /u//Sure-Drama5780\"\n",
    "reddit = praw.Reddit(\n",
    "    client_id = \"Bjk_uxsBZlpdVwKTNZlzxQ\",\n",
    "    client_secret = \"LaZgrTga58GqmrqtmKoWmohvCSugdw\",\n",
    "    user_agent = user_agent\n",
    ")"
   ]
  },
  {
   "cell_type": "code",
   "execution_count": 2,
   "id": "1f67b3c3",
   "metadata": {},
   "outputs": [
    {
     "name": "stdout",
     "output_type": "stream",
     "text": [
      "Three Palestinian students shot and wounded in Burlington, Vermont, police say\n",
      "184got7\n",
      "sleepy_time_Ty\n",
      "1701021989.0\n",
      "8442\n",
      "0.91\n",
      "https://theguardian.com/us-news/2023/nov/26/palestinian-students-shot-wounded-vermont\n",
      "0\n"
     ]
    }
   ],
   "source": [
    "import pandas as pd\n",
    "import numpy as np\n",
    "import re\n",
    "\n",
    "headlines = set()\n",
    "\n",
    "# Hot topics\n",
    "\n",
    "for submission in reddit.subreddit(\"news\").hot(limit = None):\n",
    "    print(submission.title)\n",
    "    print(submission.id)\n",
    "    print(submission.author)\n",
    "    print(submission.created_utc)\n",
    "    print(submission.score)\n",
    "    print(submission.upvote_ratio)\n",
    "    print(submission.url)\n",
    "    break\n",
    "    headlines.add(submission.title)\n",
    "print(len(headlines))"
   ]
  },
  {
   "cell_type": "code",
   "execution_count": 3,
   "id": "ae549009",
   "metadata": {},
   "outputs": [
    {
     "name": "stdout",
     "output_type": "stream",
     "text": [
      "224\n"
     ]
    }
   ],
   "source": [
    "# Number of people talking about the topic\n",
    "\n",
    "for submission in reddit.subreddit(\"news\").hot(limit = None):\n",
    "    headlines.add(submission.title)\n",
    "print(len(headlines))"
   ]
  },
  {
   "cell_type": "code",
   "execution_count": 4,
   "id": "d8b5c3ef",
   "metadata": {},
   "outputs": [
    {
     "data": {
      "text/html": [
       "<div>\n",
       "<style scoped>\n",
       "    .dataframe tbody tr th:only-of-type {\n",
       "        vertical-align: middle;\n",
       "    }\n",
       "\n",
       "    .dataframe tbody tr th {\n",
       "        vertical-align: top;\n",
       "    }\n",
       "\n",
       "    .dataframe thead th {\n",
       "        text-align: right;\n",
       "    }\n",
       "</style>\n",
       "<table border=\"1\" class=\"dataframe\">\n",
       "  <thead>\n",
       "    <tr style=\"text-align: right;\">\n",
       "      <th></th>\n",
       "      <th>0</th>\n",
       "    </tr>\n",
       "  </thead>\n",
       "  <tbody>\n",
       "    <tr>\n",
       "      <th>0</th>\n",
       "      <td>6 Colorado officers charged with failing to in...</td>\n",
       "    </tr>\n",
       "    <tr>\n",
       "      <th>1</th>\n",
       "      <td>Former San Jose State director of sports medic...</td>\n",
       "    </tr>\n",
       "    <tr>\n",
       "      <th>2</th>\n",
       "      <td>Richest 1% account for more carbon emissions t...</td>\n",
       "    </tr>\n",
       "    <tr>\n",
       "      <th>3</th>\n",
       "      <td>Fire at Freemason Lodge in Mill Bay considered...</td>\n",
       "    </tr>\n",
       "    <tr>\n",
       "      <th>4</th>\n",
       "      <td>Israel drops leaflets warning people to flee s...</td>\n",
       "    </tr>\n",
       "  </tbody>\n",
       "</table>\n",
       "</div>"
      ],
      "text/plain": [
       "                                                   0\n",
       "0  6 Colorado officers charged with failing to in...\n",
       "1  Former San Jose State director of sports medic...\n",
       "2  Richest 1% account for more carbon emissions t...\n",
       "3  Fire at Freemason Lodge in Mill Bay considered...\n",
       "4  Israel drops leaflets warning people to flee s..."
      ]
     },
     "execution_count": 4,
     "metadata": {},
     "output_type": "execute_result"
    }
   ],
   "source": [
    "reddit_df = pd.DataFrame(headlines)\n",
    "reddit_df.head()"
   ]
  },
  {
   "cell_type": "code",
   "execution_count": 5,
   "id": "f1bd4e39",
   "metadata": {},
   "outputs": [
    {
     "data": {
      "text/html": [
       "<div>\n",
       "<style scoped>\n",
       "    .dataframe tbody tr th:only-of-type {\n",
       "        vertical-align: middle;\n",
       "    }\n",
       "\n",
       "    .dataframe tbody tr th {\n",
       "        vertical-align: top;\n",
       "    }\n",
       "\n",
       "    .dataframe thead th {\n",
       "        text-align: right;\n",
       "    }\n",
       "</style>\n",
       "<table border=\"1\" class=\"dataframe\">\n",
       "  <thead>\n",
       "    <tr style=\"text-align: right;\">\n",
       "      <th></th>\n",
       "      <th>Titles</th>\n",
       "    </tr>\n",
       "  </thead>\n",
       "  <tbody>\n",
       "    <tr>\n",
       "      <th>0</th>\n",
       "      <td>6 Colorado officers charged with failing to in...</td>\n",
       "    </tr>\n",
       "    <tr>\n",
       "      <th>1</th>\n",
       "      <td>Former San Jose State director of sports medic...</td>\n",
       "    </tr>\n",
       "    <tr>\n",
       "      <th>2</th>\n",
       "      <td>Richest 1% account for more carbon emissions t...</td>\n",
       "    </tr>\n",
       "    <tr>\n",
       "      <th>3</th>\n",
       "      <td>Fire at Freemason Lodge in Mill Bay considered...</td>\n",
       "    </tr>\n",
       "    <tr>\n",
       "      <th>4</th>\n",
       "      <td>Israel drops leaflets warning people to flee s...</td>\n",
       "    </tr>\n",
       "  </tbody>\n",
       "</table>\n",
       "</div>"
      ],
      "text/plain": [
       "                                              Titles\n",
       "0  6 Colorado officers charged with failing to in...\n",
       "1  Former San Jose State director of sports medic...\n",
       "2  Richest 1% account for more carbon emissions t...\n",
       "3  Fire at Freemason Lodge in Mill Bay considered...\n",
       "4  Israel drops leaflets warning people to flee s..."
      ]
     },
     "execution_count": 5,
     "metadata": {},
     "output_type": "execute_result"
    }
   ],
   "source": [
    "reddit_df.columns = [\"Titles\"]\n",
    "reddit_df.head()"
   ]
  },
  {
   "cell_type": "code",
   "execution_count": 6,
   "id": "b69bc5d3",
   "metadata": {},
   "outputs": [
    {
     "data": {
      "text/plain": [
       "0"
      ]
     },
     "execution_count": 6,
     "metadata": {},
     "output_type": "execute_result"
    }
   ],
   "source": [
    "reddit_df.Titles.duplicated().sum()"
   ]
  },
  {
   "cell_type": "code",
   "execution_count": 7,
   "id": "aea18a0e",
   "metadata": {},
   "outputs": [
    {
     "data": {
      "text/html": [
       "<div>\n",
       "<style scoped>\n",
       "    .dataframe tbody tr th:only-of-type {\n",
       "        vertical-align: middle;\n",
       "    }\n",
       "\n",
       "    .dataframe tbody tr th {\n",
       "        vertical-align: top;\n",
       "    }\n",
       "\n",
       "    .dataframe thead th {\n",
       "        text-align: right;\n",
       "    }\n",
       "</style>\n",
       "<table border=\"1\" class=\"dataframe\">\n",
       "  <thead>\n",
       "    <tr style=\"text-align: right;\">\n",
       "      <th></th>\n",
       "      <th>Titles</th>\n",
       "    </tr>\n",
       "  </thead>\n",
       "  <tbody>\n",
       "    <tr>\n",
       "      <th>0</th>\n",
       "      <td>6 Colorado officers charged with failing to in...</td>\n",
       "    </tr>\n",
       "    <tr>\n",
       "      <th>1</th>\n",
       "      <td>Former San Jose State director of sports medic...</td>\n",
       "    </tr>\n",
       "    <tr>\n",
       "      <th>2</th>\n",
       "      <td>Richest 1% account for more carbon emissions t...</td>\n",
       "    </tr>\n",
       "    <tr>\n",
       "      <th>3</th>\n",
       "      <td>Fire at Freemason Lodge in Mill Bay considered...</td>\n",
       "    </tr>\n",
       "    <tr>\n",
       "      <th>4</th>\n",
       "      <td>Israel drops leaflets warning people to flee s...</td>\n",
       "    </tr>\n",
       "  </tbody>\n",
       "</table>\n",
       "</div>"
      ],
      "text/plain": [
       "                                              Titles\n",
       "0  6 Colorado officers charged with failing to in...\n",
       "1  Former San Jose State director of sports medic...\n",
       "2  Richest 1% account for more carbon emissions t...\n",
       "3  Fire at Freemason Lodge in Mill Bay considered...\n",
       "4  Israel drops leaflets warning people to flee s..."
      ]
     },
     "execution_count": 7,
     "metadata": {},
     "output_type": "execute_result"
    }
   ],
   "source": [
    "# Clean the reddit posts\n",
    "def cleanTxt(text):\n",
    "    text = re.sub(r'@[A-Za-z0–9]+', '', text)\n",
    "    text = re.sub(r'#', '', text)\n",
    "    text = re.sub(r'RT[\\s]+', '', text)\n",
    "    text = re.sub(r'https?:\\/\\/\\S+', '', text)\n",
    "    text = re.sub(r':', '', text)\n",
    "    return text\n",
    "\n",
    "reddit_df['Titles'] = reddit_df[\"Titles\"].apply(cleanTxt)\n",
    "\n",
    "reddit_df.head()"
   ]
  },
  {
   "cell_type": "code",
   "execution_count": 8,
   "id": "1d0ce17a",
   "metadata": {},
   "outputs": [
    {
     "data": {
      "text/html": [
       "<div>\n",
       "<style scoped>\n",
       "    .dataframe tbody tr th:only-of-type {\n",
       "        vertical-align: middle;\n",
       "    }\n",
       "\n",
       "    .dataframe tbody tr th {\n",
       "        vertical-align: top;\n",
       "    }\n",
       "\n",
       "    .dataframe thead th {\n",
       "        text-align: right;\n",
       "    }\n",
       "</style>\n",
       "<table border=\"1\" class=\"dataframe\">\n",
       "  <thead>\n",
       "    <tr style=\"text-align: right;\">\n",
       "      <th></th>\n",
       "      <th>Titles</th>\n",
       "    </tr>\n",
       "  </thead>\n",
       "  <tbody>\n",
       "    <tr>\n",
       "      <th>0</th>\n",
       "      <td>6 Colorado officers charged with failing to in...</td>\n",
       "    </tr>\n",
       "    <tr>\n",
       "      <th>1</th>\n",
       "      <td>Former San Jose State director of sports medic...</td>\n",
       "    </tr>\n",
       "    <tr>\n",
       "      <th>2</th>\n",
       "      <td>Richest 1% account for more carbon emissions t...</td>\n",
       "    </tr>\n",
       "    <tr>\n",
       "      <th>3</th>\n",
       "      <td>Fire at Freemason Lodge in Mill Bay considered...</td>\n",
       "    </tr>\n",
       "    <tr>\n",
       "      <th>4</th>\n",
       "      <td>Israel drops leaflets warning people to flee s...</td>\n",
       "    </tr>\n",
       "  </tbody>\n",
       "</table>\n",
       "</div>"
      ],
      "text/plain": [
       "                                              Titles\n",
       "0  6 Colorado officers charged with failing to in...\n",
       "1  Former San Jose State director of sports medic...\n",
       "2  Richest 1% account for more carbon emissions t...\n",
       "3  Fire at Freemason Lodge in Mill Bay considered...\n",
       "4  Israel drops leaflets warning people to flee s..."
      ]
     },
     "execution_count": 8,
     "metadata": {},
     "output_type": "execute_result"
    }
   ],
   "source": [
    "def remove_emoji(string):\n",
    "    emoji_pattern = re.compile(\"[\"\n",
    "                               u\"\\U0001F600-\\U0001F64F\"\n",
    "                               u\"\\U0001F300-\\U0001F5FF\"\n",
    "                               u\"\\U0001F680-\\U0001F6FF\"\n",
    "                               u\"\\U0001F1E0-\\U0001F1FF\"\n",
    "                               u\"\\U00002500-\\U00002BEF\"\n",
    "                               u\"\\U00002702-\\U000027B0\"\n",
    "                               u\"\\U00002702-\\U000027B0\"\n",
    "                               u\"\\U000024C2-\\U0001F251\"\n",
    "                               u\"\\U0001f926-\\U0001f937\"\n",
    "                               u\"\\U00010000-\\U0010ffff\"\n",
    "                               u\"\\u2640-\\u2642\"\n",
    "                               u\"\\u2600-\\u2B55\"\n",
    "                               u\"\\u200d\"\n",
    "                               u\"\\u23cf\"\n",
    "                               u\"\\u23e9\"\n",
    "                               u\"\\u231a\"\n",
    "                               u\"\\ufe0f\"\n",
    "                               u\"\\u3030\"\n",
    "                               \"]+\", flags=re.UNICODE)\n",
    "    return emoji_pattern.sub(r'', string)\n",
    "\n",
    "reddit_df[\"Titles\"] = reddit_df[\"Titles\"].apply(remove_emoji)\n",
    "reddit_df.head()"
   ]
  },
  {
   "cell_type": "code",
   "execution_count": 9,
   "id": "fc745675",
   "metadata": {},
   "outputs": [
    {
     "data": {
      "text/html": [
       "<div>\n",
       "<style scoped>\n",
       "    .dataframe tbody tr th:only-of-type {\n",
       "        vertical-align: middle;\n",
       "    }\n",
       "\n",
       "    .dataframe tbody tr th {\n",
       "        vertical-align: top;\n",
       "    }\n",
       "\n",
       "    .dataframe thead th {\n",
       "        text-align: right;\n",
       "    }\n",
       "</style>\n",
       "<table border=\"1\" class=\"dataframe\">\n",
       "  <thead>\n",
       "    <tr style=\"text-align: right;\">\n",
       "      <th></th>\n",
       "      <th>Titles</th>\n",
       "      <th>Subjectivity</th>\n",
       "      <th>Polarity</th>\n",
       "    </tr>\n",
       "  </thead>\n",
       "  <tbody>\n",
       "    <tr>\n",
       "      <th>0</th>\n",
       "      <td>6 Colorado officers charged with failing to in...</td>\n",
       "      <td>0.000000</td>\n",
       "      <td>0.00</td>\n",
       "    </tr>\n",
       "    <tr>\n",
       "      <th>1</th>\n",
       "      <td>Former San Jose State director of sports medic...</td>\n",
       "      <td>0.416667</td>\n",
       "      <td>0.25</td>\n",
       "    </tr>\n",
       "    <tr>\n",
       "      <th>2</th>\n",
       "      <td>Richest 1% account for more carbon emissions t...</td>\n",
       "      <td>0.500000</td>\n",
       "      <td>0.50</td>\n",
       "    </tr>\n",
       "    <tr>\n",
       "      <th>3</th>\n",
       "      <td>Fire at Freemason Lodge in Mill Bay considered...</td>\n",
       "      <td>0.000000</td>\n",
       "      <td>0.00</td>\n",
       "    </tr>\n",
       "    <tr>\n",
       "      <th>4</th>\n",
       "      <td>Israel drops leaflets warning people to flee s...</td>\n",
       "      <td>0.000000</td>\n",
       "      <td>0.00</td>\n",
       "    </tr>\n",
       "  </tbody>\n",
       "</table>\n",
       "</div>"
      ],
      "text/plain": [
       "                                              Titles  Subjectivity  Polarity\n",
       "0  6 Colorado officers charged with failing to in...      0.000000      0.00\n",
       "1  Former San Jose State director of sports medic...      0.416667      0.25\n",
       "2  Richest 1% account for more carbon emissions t...      0.500000      0.50\n",
       "3  Fire at Freemason Lodge in Mill Bay considered...      0.000000      0.00\n",
       "4  Israel drops leaflets warning people to flee s...      0.000000      0.00"
      ]
     },
     "execution_count": 9,
     "metadata": {},
     "output_type": "execute_result"
    }
   ],
   "source": [
    "from textblob import TextBlob\n",
    "from wordcloud import WordCloud, STOPWORDS\n",
    "\n",
    "def getSubjectivity(text):\n",
    "    return TextBlob(text).sentiment.subjectivity\n",
    "\n",
    "def getPolarity(text):\n",
    "    return TextBlob(text).sentiment.polarity\n",
    "\n",
    "reddit_df['Subjectivity'] = reddit_df['Titles'].apply(getSubjectivity)\n",
    "reddit_df['Polarity'] = reddit_df['Titles'].apply(getPolarity)\n",
    "\n",
    "reddit_df.head()"
   ]
  },
  {
   "cell_type": "code",
   "execution_count": 10,
   "id": "569edfe8",
   "metadata": {},
   "outputs": [
    {
     "data": {
      "text/html": [
       "<div>\n",
       "<style scoped>\n",
       "    .dataframe tbody tr th:only-of-type {\n",
       "        vertical-align: middle;\n",
       "    }\n",
       "\n",
       "    .dataframe tbody tr th {\n",
       "        vertical-align: top;\n",
       "    }\n",
       "\n",
       "    .dataframe thead th {\n",
       "        text-align: right;\n",
       "    }\n",
       "</style>\n",
       "<table border=\"1\" class=\"dataframe\">\n",
       "  <thead>\n",
       "    <tr style=\"text-align: right;\">\n",
       "      <th></th>\n",
       "      <th>Titles</th>\n",
       "      <th>Subjectivity</th>\n",
       "      <th>Polarity</th>\n",
       "      <th>Insight</th>\n",
       "    </tr>\n",
       "  </thead>\n",
       "  <tbody>\n",
       "    <tr>\n",
       "      <th>0</th>\n",
       "      <td>6 Colorado officers charged with failing to in...</td>\n",
       "      <td>0.000000</td>\n",
       "      <td>0.00</td>\n",
       "      <td>Neutral</td>\n",
       "    </tr>\n",
       "    <tr>\n",
       "      <th>1</th>\n",
       "      <td>Former San Jose State director of sports medic...</td>\n",
       "      <td>0.416667</td>\n",
       "      <td>0.25</td>\n",
       "      <td>Positive</td>\n",
       "    </tr>\n",
       "    <tr>\n",
       "      <th>2</th>\n",
       "      <td>Richest 1% account for more carbon emissions t...</td>\n",
       "      <td>0.500000</td>\n",
       "      <td>0.50</td>\n",
       "      <td>Positive</td>\n",
       "    </tr>\n",
       "    <tr>\n",
       "      <th>3</th>\n",
       "      <td>Fire at Freemason Lodge in Mill Bay considered...</td>\n",
       "      <td>0.000000</td>\n",
       "      <td>0.00</td>\n",
       "      <td>Neutral</td>\n",
       "    </tr>\n",
       "    <tr>\n",
       "      <th>4</th>\n",
       "      <td>Israel drops leaflets warning people to flee s...</td>\n",
       "      <td>0.000000</td>\n",
       "      <td>0.00</td>\n",
       "      <td>Neutral</td>\n",
       "    </tr>\n",
       "  </tbody>\n",
       "</table>\n",
       "</div>"
      ],
      "text/plain": [
       "                                              Titles  Subjectivity  Polarity  \\\n",
       "0  6 Colorado officers charged with failing to in...      0.000000      0.00   \n",
       "1  Former San Jose State director of sports medic...      0.416667      0.25   \n",
       "2  Richest 1% account for more carbon emissions t...      0.500000      0.50   \n",
       "3  Fire at Freemason Lodge in Mill Bay considered...      0.000000      0.00   \n",
       "4  Israel drops leaflets warning people to flee s...      0.000000      0.00   \n",
       "\n",
       "    Insight  \n",
       "0   Neutral  \n",
       "1  Positive  \n",
       "2  Positive  \n",
       "3   Neutral  \n",
       "4   Neutral  "
      ]
     },
     "execution_count": 10,
     "metadata": {},
     "output_type": "execute_result"
    }
   ],
   "source": [
    "def getInsight(score):\n",
    "    if score < 0:\n",
    "        return \"Negative\"\n",
    "    elif score == 0:\n",
    "        return \"Neutral\"\n",
    "    else:\n",
    "        return \"Positive\"\n",
    "\n",
    "reddit_df['Insight'] = reddit_df[\"Polarity\"].apply(getInsight)\n",
    "reddit_df.head()"
   ]
  },
  {
   "cell_type": "markdown",
   "id": "f98195e0",
   "metadata": {},
   "source": [
    "# The next blocks of code fetches Options data from Yahoo Finance"
   ]
  },
  {
   "cell_type": "code",
   "execution_count": 41,
   "id": "ae65c067",
   "metadata": {},
   "outputs": [
    {
     "ename": "KeyError",
     "evalue": "'expirationDate'",
     "output_type": "error",
     "traceback": [
      "\u001b[0;31m---------------------------------------------------------------------------\u001b[0m",
      "\u001b[0;31mKeyError\u001b[0m                                  Traceback (most recent call last)",
      "Cell \u001b[0;32mIn[41], line 30\u001b[0m\n\u001b[1;32m     26\u001b[0m     options[\u001b[38;5;124m'\u001b[39m\u001b[38;5;124mmark\u001b[39m\u001b[38;5;124m'\u001b[39m] \u001b[38;5;241m=\u001b[39m (options[\u001b[38;5;124m'\u001b[39m\u001b[38;5;124mbid\u001b[39m\u001b[38;5;124m'\u001b[39m] \u001b[38;5;241m+\u001b[39m options[\u001b[38;5;124m'\u001b[39m\u001b[38;5;124mask\u001b[39m\u001b[38;5;124m'\u001b[39m])\n\u001b[1;32m     28\u001b[0m     \u001b[38;5;28;01mreturn\u001b[39;00m options\n\u001b[0;32m---> 30\u001b[0m \u001b[43moptions_chain\u001b[49m\u001b[43m(\u001b[49m\u001b[38;5;124;43m\"\u001b[39;49m\u001b[38;5;124;43mTwitter\u001b[39;49m\u001b[38;5;124;43m\"\u001b[39;49m\u001b[43m)\u001b[49m\n",
      "Cell \u001b[0;32mIn[41], line 20\u001b[0m, in \u001b[0;36moptions_chain\u001b[0;34m(symbol)\u001b[0m\n\u001b[1;32m     17\u001b[0m     \u001b[38;5;66;03m#options = options.append(opt, ignore_index = True)\u001b[39;00m\n\u001b[1;32m     18\u001b[0m     options \u001b[38;5;241m=\u001b[39m pd\u001b[38;5;241m.\u001b[39mconcat([options, opt], axis \u001b[38;5;241m=\u001b[39m \u001b[38;5;241m0\u001b[39m)\n\u001b[0;32m---> 20\u001b[0m options[\u001b[38;5;124m'\u001b[39m\u001b[38;5;124mexpirationDate\u001b[39m\u001b[38;5;124m'\u001b[39m] \u001b[38;5;241m=\u001b[39m pd\u001b[38;5;241m.\u001b[39mto_datetime(\u001b[43moptions\u001b[49m\u001b[43m[\u001b[49m\u001b[38;5;124;43m'\u001b[39;49m\u001b[38;5;124;43mexpirationDate\u001b[39;49m\u001b[38;5;124;43m'\u001b[39;49m\u001b[43m]\u001b[49m) \u001b[38;5;241m+\u001b[39m datetime\u001b[38;5;241m.\u001b[39mtimedelta(days \u001b[38;5;241m=\u001b[39m \u001b[38;5;241m1\u001b[39m)\n\u001b[1;32m     21\u001b[0m options[\u001b[38;5;124m'\u001b[39m\u001b[38;5;124mdte\u001b[39m\u001b[38;5;124m'\u001b[39m] \u001b[38;5;241m=\u001b[39m (options[\u001b[38;5;124m'\u001b[39m\u001b[38;5;124mexpirationDate\u001b[39m\u001b[38;5;124m'\u001b[39m] \u001b[38;5;241m-\u001b[39m datetime\u001b[38;5;241m.\u001b[39mdatetime\u001b[38;5;241m.\u001b[39mtoday())\u001b[38;5;241m.\u001b[39mdt\u001b[38;5;241m.\u001b[39mdays \u001b[38;5;241m/\u001b[39m \u001b[38;5;241m365\u001b[39m\n\u001b[1;32m     23\u001b[0m options[\u001b[38;5;124m'\u001b[39m\u001b[38;5;124mCALL\u001b[39m\u001b[38;5;124m'\u001b[39m] \u001b[38;5;241m=\u001b[39m options[\u001b[38;5;124m'\u001b[39m\u001b[38;5;124mcontractSymbol\u001b[39m\u001b[38;5;124m'\u001b[39m]\u001b[38;5;241m.\u001b[39mstr[\u001b[38;5;241m4\u001b[39m:]\u001b[38;5;241m.\u001b[39mapply(\u001b[38;5;28;01mlambda\u001b[39;00m x: \u001b[38;5;124m\"\u001b[39m\u001b[38;5;124mC\u001b[39m\u001b[38;5;124m\"\u001b[39m \u001b[38;5;129;01min\u001b[39;00m x)\n",
      "File \u001b[0;32m~/anaconda3/envs/dsl/lib/python3.9/site-packages/pandas/core/frame.py:3761\u001b[0m, in \u001b[0;36mDataFrame.__getitem__\u001b[0;34m(self, key)\u001b[0m\n\u001b[1;32m   3759\u001b[0m \u001b[38;5;28;01mif\u001b[39;00m \u001b[38;5;28mself\u001b[39m\u001b[38;5;241m.\u001b[39mcolumns\u001b[38;5;241m.\u001b[39mnlevels \u001b[38;5;241m>\u001b[39m \u001b[38;5;241m1\u001b[39m:\n\u001b[1;32m   3760\u001b[0m     \u001b[38;5;28;01mreturn\u001b[39;00m \u001b[38;5;28mself\u001b[39m\u001b[38;5;241m.\u001b[39m_getitem_multilevel(key)\n\u001b[0;32m-> 3761\u001b[0m indexer \u001b[38;5;241m=\u001b[39m \u001b[38;5;28;43mself\u001b[39;49m\u001b[38;5;241;43m.\u001b[39;49m\u001b[43mcolumns\u001b[49m\u001b[38;5;241;43m.\u001b[39;49m\u001b[43mget_loc\u001b[49m\u001b[43m(\u001b[49m\u001b[43mkey\u001b[49m\u001b[43m)\u001b[49m\n\u001b[1;32m   3762\u001b[0m \u001b[38;5;28;01mif\u001b[39;00m is_integer(indexer):\n\u001b[1;32m   3763\u001b[0m     indexer \u001b[38;5;241m=\u001b[39m [indexer]\n",
      "File \u001b[0;32m~/anaconda3/envs/dsl/lib/python3.9/site-packages/pandas/core/indexes/range.py:349\u001b[0m, in \u001b[0;36mRangeIndex.get_loc\u001b[0;34m(self, key)\u001b[0m\n\u001b[1;32m    347\u001b[0m         \u001b[38;5;28;01mraise\u001b[39;00m \u001b[38;5;167;01mKeyError\u001b[39;00m(key) \u001b[38;5;28;01mfrom\u001b[39;00m \u001b[38;5;21;01merr\u001b[39;00m\n\u001b[1;32m    348\u001b[0m \u001b[38;5;28;01mif\u001b[39;00m \u001b[38;5;28misinstance\u001b[39m(key, Hashable):\n\u001b[0;32m--> 349\u001b[0m     \u001b[38;5;28;01mraise\u001b[39;00m \u001b[38;5;167;01mKeyError\u001b[39;00m(key)\n\u001b[1;32m    350\u001b[0m \u001b[38;5;28mself\u001b[39m\u001b[38;5;241m.\u001b[39m_check_indexing_error(key)\n\u001b[1;32m    351\u001b[0m \u001b[38;5;28;01mraise\u001b[39;00m \u001b[38;5;167;01mKeyError\u001b[39;00m(key)\n",
      "\u001b[0;31mKeyError\u001b[0m: 'expirationDate'"
     ]
    }
   ],
   "source": [
    "import yfinance as yf\n",
    "import datetime\n",
    "\n",
    "def options_chain(symbol):\n",
    "    tk = yf.Ticker(symbol)\n",
    "    \n",
    "    expiration_dates = tk.options\n",
    "    \n",
    "    # Get options for each expiration\n",
    "    options = pd.DataFrame()\n",
    "    \n",
    "    for e in expiration_dates:\n",
    "        opt = tk.option_chain(e)\n",
    "        #opt = pd.DataFrame().append(opt.calls).append(opt.puts)\n",
    "        opt = pd.concat([opt.calls, opt.puts], axis = 0)\n",
    "        opt[['expirationDate']] = e\n",
    "        #options = options.append(opt, ignore_index = True)\n",
    "        options = pd.concat([options, opt], axis = 0)\n",
    "    \n",
    "    options['expirationDate'] = pd.to_datetime(options['expirationDate']) + datetime.timedelta(days = 1)\n",
    "    options['dte'] = (options['expirationDate'] - datetime.datetime.today()).dt.days / 365\n",
    "    \n",
    "    options['CALL'] = options['contractSymbol'].str[4:].apply(lambda x: \"C\" in x)\n",
    "    \n",
    "    options[['bid', 'ask', 'strike']] = options[['bid', 'ask', 'strike']].apply(pd.to_numeric)\n",
    "    options['mark'] = (options['bid'] + options['ask'])\n",
    "    \n",
    "    return options\n",
    "\n",
    "options_chain(\"META\")\n",
    "#tk = yf.Ticker(\"META\")\n",
    "\n",
    "#exps = tk.options\n",
    "\n",
    "#opt = tk.option_chain(exps[0])\n",
    "\n",
    "#opt = pd.concat([opt.calls, opt.puts], axis=0)\n",
    "#opt['expirationDate'] = exps[0]\n",
    "#opt"
   ]
  },
  {
   "cell_type": "code",
   "execution_count": null,
   "id": "48871b4f",
   "metadata": {},
   "outputs": [],
   "source": []
  }
 ],
 "metadata": {
  "kernelspec": {
   "display_name": "Python 3 (ipykernel)",
   "language": "python",
   "name": "python3"
  },
  "language_info": {
   "codemirror_mode": {
    "name": "ipython",
    "version": 3
   },
   "file_extension": ".py",
   "mimetype": "text/x-python",
   "name": "python",
   "nbconvert_exporter": "python",
   "pygments_lexer": "ipython3",
   "version": "3.9.18"
  }
 },
 "nbformat": 4,
 "nbformat_minor": 5
}
